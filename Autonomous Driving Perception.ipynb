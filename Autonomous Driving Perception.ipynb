{
 "cells": [
  {
   "cell_type": "markdown",
   "metadata": {},
   "source": [
    "# AI Chanllenge 自动驾驶视觉感知\n",
    "- 基于yolov3的物体检测和可行驶区域分割"
   ]
  },
  {
   "cell_type": "markdown",
   "metadata": {},
   "source": [
    "#### 0. 预处理\n",
    "\n",
    "- 模块导入，自定义相关常量\n",
    "- 生成简化版的labels json文件，防止读取内存时占用过大"
   ]
  },
  {
   "cell_type": "code",
   "execution_count": 1,
   "metadata": {},
   "outputs": [],
   "source": [
    "import os\n",
    "import skimage\n",
    "import pandas as pd\n",
    "import matplotlib.pyplot as plt\n",
    "\n",
    "import warnings\n",
    "warnings.filterwarnings(\"ignore\")\n",
    "\n",
    "import torch\n",
    "import torch.nn as nn\n",
    "\n",
    "%matplotlib inline\n",
    "%reload_ext autoreload\n",
    "%autoreload 2"
   ]
  },
  {
   "cell_type": "code",
   "execution_count": 4,
   "metadata": {},
   "outputs": [],
   "source": [
    "PATH_Labels = './data/bdd100k_labels_release/bdd100k/labels'\n",
    "PATH_Train = './data/bdd100k_images/bdd100k/images/100k/train'\n",
    "PATH_Test = './data/bdd100k_images/bdd100k/images/100k/test'\n",
    "PATH_Val = './data/bdd100k_images/bdd100k/images/100k/val'\n",
    "PATH_Yolov3cfg_ori = './config/yolov3.cfg'\n",
    "PATH_Yolov3cfg_custom = './config/yolov3-custom-classes.cfg'\n",
    "PATH_Class_names = './data/class.names'\n",
    "\n",
    "NUM_Classes = 10"
   ]
  },
  {
   "cell_type": "code",
   "execution_count": 5,
   "metadata": {},
   "outputs": [
    {
     "name": "stdout",
     "output_type": "stream",
     "text": [
      "Simplified labels files already exist!\n"
     ]
    }
   ],
   "source": [
    "# 生成简化labels的json文件，防止读取labels占用内存过大\n",
    "from utils.simplify_labels import *\n",
    "gen_simple_labels(PATH_Labels)"
   ]
  },
  {
   "cell_type": "markdown",
   "metadata": {},
   "source": [
    "### 1. 查看labels文件"
   ]
  },
  {
   "cell_type": "code",
   "execution_count": null,
   "metadata": {},
   "outputs": [],
   "source": [
    "# train_labels_df = pd.read_json(os.path.join(PATH_Labels, 'simple_train_labels.json'))\n",
    "# train_labels_df.head()\n",
    "\n",
    "val_labels_df = pd.read_json(os.path.join(PATH_Labels, 'simple_val_labels.json'))\n",
    "val_labels_df.head()\n"
   ]
  },
  {
   "cell_type": "markdown",
   "metadata": {},
   "source": [
    "### 2. 加载模型"
   ]
  },
  {
   "cell_type": "code",
   "execution_count": null,
   "metadata": {},
   "outputs": [],
   "source": [
    "from models import *\n",
    "\n",
    "model_custom = Darknet(PATH_Yolov3cfg_custom, img_size=416)\n",
    "model_ori = Darknet(PATH_Yolov3cfg_ori, img_size=640)\n",
    "\n",
    "print(model_custom)"
   ]
  },
  {
   "cell_type": "code",
   "execution_count": null,
   "metadata": {},
   "outputs": [],
   "source": [
    "print(model_ori)"
   ]
  },
  {
   "cell_type": "markdown",
   "metadata": {},
   "source": [
    "# 一些试错代码"
   ]
  },
  {
   "cell_type": "code",
   "execution_count": null,
   "metadata": {},
   "outputs": [],
   "source": [
    "os.listdir(PATH_Val)[:5]"
   ]
  },
  {
   "cell_type": "code",
   "execution_count": 26,
   "metadata": {},
   "outputs": [],
   "source": [
    "import json\n",
    "with open(os.path.join(PATH_Labels, 'simple_val_labels.json'), 'r') as f:\n",
    "    labels = json.load(f)\n",
    "    \n",
    "names_val, labels_val = prepare_labels(os.path.join(PATH_Labels, 'simple_val_labels.json'), \n",
    "                            PATH_Class_names)"
   ]
  },
  {
   "cell_type": "code",
   "execution_count": 28,
   "metadata": {
    "scrolled": false
   },
   "outputs": [
    {
     "data": {
      "text/plain": [
       "{'name': 'b1c81faa-3df17267.jpg',\n",
       " 'attributes': {'weather': 'clear', 'scene': 'highway', 'timeofday': 'night'},\n",
       " 'labels': [{'category': 'car',\n",
       "   'attributes': {'occluded': False,\n",
       "    'truncated': False,\n",
       "    'trafficLightColor': 'none'},\n",
       "   'manualShape': True,\n",
       "   'manualAttributes': True,\n",
       "   'box2d': {'x1': 819.464053,\n",
       "    'y1': 280.082505,\n",
       "    'x2': 889.23726,\n",
       "    'y2': 312.742305},\n",
       "   'id': 51},\n",
       "  {'category': 'car',\n",
       "   'attributes': {'occluded': False,\n",
       "    'truncated': False,\n",
       "    'trafficLightColor': 'none'},\n",
       "   'manualShape': True,\n",
       "   'manualAttributes': True,\n",
       "   'box2d': {'x1': 1027.299139,\n",
       "    'y1': 290.47426,\n",
       "    'x2': 1052.536255,\n",
       "    'y2': 306.804159},\n",
       "   'id': 52},\n",
       "  {'category': 'traffic sign',\n",
       "   'attributes': {'occluded': False,\n",
       "    'truncated': False,\n",
       "    'trafficLightColor': 'none'},\n",
       "   'manualShape': True,\n",
       "   'manualAttributes': True,\n",
       "   'box2d': {'x1': 1061.443474,\n",
       "    'y1': 234.061879,\n",
       "    'x2': 1134.185754,\n",
       "    'y2': 265.237142},\n",
       "   'id': 53},\n",
       "  {'category': 'traffic light',\n",
       "   'attributes': {'occluded': False,\n",
       "    'truncated': False,\n",
       "    'trafficLightColor': 'green'},\n",
       "   'manualShape': True,\n",
       "   'manualAttributes': True,\n",
       "   'box2d': {'x1': 1005.031094,\n",
       "    'y1': 263.752617,\n",
       "    'x2': 1030.26821,\n",
       "    'y2': 280.082518},\n",
       "   'id': 54}]}"
      ]
     },
     "execution_count": 28,
     "metadata": {},
     "output_type": "execute_result"
    }
   ],
   "source": [
    "labels[1]"
   ]
  },
  {
   "cell_type": "code",
   "execution_count": 36,
   "metadata": {},
   "outputs": [
    {
     "data": {
      "text/plain": [
       "<matplotlib.image.AxesImage at 0x1ec07a5de80>"
      ]
     },
     "execution_count": 36,
     "metadata": {},
     "output_type": "execute_result"
    },
    {
     "data": {
      "image/png": "[encoded data removed]",
      "text/plain": [
       "<Figure size 432x288 with 1 Axes>"
      ]
     },
     "metadata": {
      "needs_background": "light"
     },
     "output_type": "display_data"
    }
   ],
   "source": [
    "imgx= plt.imread(os.path.join(PATH_Val, 'b1c81faa-3df17267.jpg'))\n",
    "imgx.shape\n",
    "plt.imshow(imgx)"
   ]
  },
  {
   "cell_type": "code",
   "execution_count": 35,
   "metadata": {
    "scrolled": false
   },
   "outputs": [
    {
     "data": {
      "text/plain": [
       "array([[   2.       ,  854.3506565,  296.412405 ,   69.773207 ,\n",
       "          32.6598   ],\n",
       "       [   2.       , 1039.917697 ,  298.6392095,   25.237116 ,\n",
       "          16.329899 ],\n",
       "       [   7.       , 1097.814614 ,  249.6495105,   72.74228  ,\n",
       "          31.175263 ],\n",
       "       [   6.       , 1017.649652 ,  271.9175675,   25.237116 ,\n",
       "          16.329901 ]])"
      ]
     },
     "execution_count": 35,
     "metadata": {},
     "output_type": "execute_result"
    }
   ],
   "source": [
    "labels_val[1]"
   ]
  },
  {
   "cell_type": "code",
   "execution_count": 39,
   "metadata": {},
   "outputs": [
    {
     "name": "stdout",
     "output_type": "stream",
     "text": [
      "[ 819.464053 1027.299139 1061.443474 1005.031094] [280.082505 290.47426  234.061879 263.752617] [ 889.23726  1052.536255 1134.185754 1030.26821 ] [312.742305 306.804159 265.237142 280.082518]\n"
     ]
    },
    {
     "data": {
      "text/plain": [
       "tensor([[2.0000, 0.6675, 0.4503, 0.0545, 0.0255],\n",
       "        [2.0000, 0.8124, 0.4521, 0.0197, 0.0128],\n",
       "        [7.0000, 0.8577, 0.4138, 0.0568, 0.0244],\n",
       "        [6.0000, 0.7950, 0.4312, 0.0197, 0.0128],\n",
       "        [0.0000, 0.0000, 0.0000, 0.0000, 0.0000],\n",
       "        [0.0000, 0.0000, 0.0000, 0.0000, 0.0000],\n",
       "        [0.0000, 0.0000, 0.0000, 0.0000, 0.0000],\n",
       "        [0.0000, 0.0000, 0.0000, 0.0000, 0.0000],\n",
       "        [0.0000, 0.0000, 0.0000, 0.0000, 0.0000],\n",
       "        [0.0000, 0.0000, 0.0000, 0.0000, 0.0000],\n",
       "        [0.0000, 0.0000, 0.0000, 0.0000, 0.0000],\n",
       "        [0.0000, 0.0000, 0.0000, 0.0000, 0.0000],\n",
       "        [0.0000, 0.0000, 0.0000, 0.0000, 0.0000],\n",
       "        [0.0000, 0.0000, 0.0000, 0.0000, 0.0000],\n",
       "        [0.0000, 0.0000, 0.0000, 0.0000, 0.0000],\n",
       "        [0.0000, 0.0000, 0.0000, 0.0000, 0.0000],\n",
       "        [0.0000, 0.0000, 0.0000, 0.0000, 0.0000],\n",
       "        [0.0000, 0.0000, 0.0000, 0.0000, 0.0000],\n",
       "        [0.0000, 0.0000, 0.0000, 0.0000, 0.0000],\n",
       "        [0.0000, 0.0000, 0.0000, 0.0000, 0.0000],\n",
       "        [0.0000, 0.0000, 0.0000, 0.0000, 0.0000],\n",
       "        [0.0000, 0.0000, 0.0000, 0.0000, 0.0000],\n",
       "        [0.0000, 0.0000, 0.0000, 0.0000, 0.0000],\n",
       "        [0.0000, 0.0000, 0.0000, 0.0000, 0.0000],\n",
       "        [0.0000, 0.0000, 0.0000, 0.0000, 0.0000],\n",
       "        [0.0000, 0.0000, 0.0000, 0.0000, 0.0000],\n",
       "        [0.0000, 0.0000, 0.0000, 0.0000, 0.0000],\n",
       "        [0.0000, 0.0000, 0.0000, 0.0000, 0.0000],\n",
       "        [0.0000, 0.0000, 0.0000, 0.0000, 0.0000],\n",
       "        [0.0000, 0.0000, 0.0000, 0.0000, 0.0000],\n",
       "        [0.0000, 0.0000, 0.0000, 0.0000, 0.0000],\n",
       "        [0.0000, 0.0000, 0.0000, 0.0000, 0.0000],\n",
       "        [0.0000, 0.0000, 0.0000, 0.0000, 0.0000],\n",
       "        [0.0000, 0.0000, 0.0000, 0.0000, 0.0000],\n",
       "        [0.0000, 0.0000, 0.0000, 0.0000, 0.0000],\n",
       "        [0.0000, 0.0000, 0.0000, 0.0000, 0.0000],\n",
       "        [0.0000, 0.0000, 0.0000, 0.0000, 0.0000],\n",
       "        [0.0000, 0.0000, 0.0000, 0.0000, 0.0000],\n",
       "        [0.0000, 0.0000, 0.0000, 0.0000, 0.0000],\n",
       "        [0.0000, 0.0000, 0.0000, 0.0000, 0.0000],\n",
       "        [0.0000, 0.0000, 0.0000, 0.0000, 0.0000],\n",
       "        [0.0000, 0.0000, 0.0000, 0.0000, 0.0000],\n",
       "        [0.0000, 0.0000, 0.0000, 0.0000, 0.0000],\n",
       "        [0.0000, 0.0000, 0.0000, 0.0000, 0.0000],\n",
       "        [0.0000, 0.0000, 0.0000, 0.0000, 0.0000],\n",
       "        [0.0000, 0.0000, 0.0000, 0.0000, 0.0000],\n",
       "        [0.0000, 0.0000, 0.0000, 0.0000, 0.0000],\n",
       "        [0.0000, 0.0000, 0.0000, 0.0000, 0.0000],\n",
       "        [0.0000, 0.0000, 0.0000, 0.0000, 0.0000],\n",
       "        [0.0000, 0.0000, 0.0000, 0.0000, 0.0000]], dtype=torch.float64)"
      ]
     },
     "execution_count": 39,
     "metadata": {},
     "output_type": "execute_result"
    }
   ],
   "source": [
    "valdata[1][2]"
   ]
  },
  {
   "cell_type": "code",
   "execution_count": 6,
   "metadata": {},
   "outputs": [],
   "source": [
    "valdata = ListDataset(PATH_Val,\n",
    "                      os.path.join(PATH_Labels, 'simple_val_labels.json'),\n",
    "                      PATH_Class_names)"
   ]
  },
  {
   "cell_type": "code",
   "execution_count": 3,
   "metadata": {},
   "outputs": [],
   "source": [
    "import os\n",
    "import numpy as np\n",
    "import copy\n",
    "import torch\n",
    "\n",
    "from torch.utils.data import Dataset\n",
    "from PIL import Image\n",
    "from utils.simplify_labels import prepare_labels\n",
    "\n",
    "from skimage.transform import resize\n",
    "\n",
    "class ListDataset(Dataset):\n",
    "    def __init__(self, img_path, label_path, classname_path, img_size=416):\n",
    "        self.img_path = img_path\n",
    "        self.label_path = label_path\n",
    "        self.classname_path = classname_path\n",
    "        self.img_names = os.listdir(self.img_path)\n",
    "        _, self.img_labels = prepare_labels(self.label_path, self.classname_path)\n",
    "        self.img_shape = (img_size, img_size)\n",
    "        self.max_objects = 50\n",
    "\n",
    "    def __getitem__(self, index):\n",
    "\n",
    "        #---------\n",
    "        #  Image\n",
    "        #---------\n",
    "\n",
    "        img_path = os.path.join(self.img_path, self.img_names[index])\n",
    "        img = np.array(Image.open(img_path))\n",
    "\n",
    "        # Handles images with less than three channels\n",
    "        while len(img.shape) != 3:\n",
    "            index += 1\n",
    "            img_path = os.path.join(self.img_path, self.img_names[index])\n",
    "            img = np.array(Image.open(img_path))\n",
    "\n",
    "        h, w, _ = img.shape\n",
    "        dim_diff = np.abs(h - w)\n",
    "        # Upper (left) and lower (right) padding\n",
    "        pad1, pad2 = dim_diff // 2, dim_diff - dim_diff // 2\n",
    "        # Determine padding\n",
    "        pad = ((pad1, pad2), (0, 0), (0, 0)) if h <= w else ((0, 0), (pad1, pad2), (0, 0))\n",
    "        # Add padding\n",
    "        input_img = np.pad(img, pad, 'constant', constant_values=128) / 255.\n",
    "        padded_h, padded_w, _ = input_img.shape\n",
    "        # Resize and normalize\n",
    "        input_img = resize(input_img, (*self.img_shape, 3), mode='reflect')\n",
    "        # Channels-first\n",
    "        input_img = np.transpose(input_img, (2, 0, 1))\n",
    "        # As pytorch tensor\n",
    "        input_img = torch.from_numpy(input_img).float()\n",
    "\n",
    "        #---------\n",
    "        #  Label\n",
    "        #---------\n",
    "\n",
    "        labels = copy.deepcopy(self.img_labels[index])\n",
    "        # Extract coordinates for unpadded + unscaled image\n",
    "        x1 = labels[:, 1] - labels[:, 3]/2\n",
    "        y1 = labels[:, 2] - labels[:, 4]/2\n",
    "        x2 = labels[:, 1] + labels[:, 3]/2\n",
    "        y2 = labels[:, 2] + labels[:, 4]/2\n",
    "        print(x1,y1,x2,y2)\n",
    "        # Adjust for added padding\n",
    "        x1 += pad[1][0]\n",
    "        y1 += pad[0][0]\n",
    "        x2 += pad[1][0]\n",
    "        y2 += pad[0][0]\n",
    "        # Calculate ratios from coordinates\n",
    "        labels[:, 1] = ((x1 + x2) / 2) / padded_w\n",
    "        labels[:, 2] = ((y1 + y2) / 2) / padded_h\n",
    "        labels[:, 3] /= padded_w\n",
    "        labels[:, 4] /= padded_h\n",
    "        # Fill matrix\n",
    "        filled_labels = np.zeros((self.max_objects, 5))\n",
    "        if labels is not None:\n",
    "            filled_labels[range(len(labels))[:self.max_objects]] = labels[:self.max_objects]\n",
    "        filled_labels = torch.from_numpy(filled_labels)\n",
    "\n",
    "        return img_path, input_img, filled_labels\n",
    "\n",
    "    def __len__(self):\n",
    "        return len(self.img_names)"
   ]
  },
  {
   "cell_type": "code",
   "execution_count": null,
   "metadata": {},
   "outputs": [],
   "source": [
    "1/torch.sigmoid(torch.tensor(-3.8))"
   ]
  },
  {
   "cell_type": "code",
   "execution_count": 7,
   "metadata": {},
   "outputs": [],
   "source": [
    "from torch.utils.data import Subset\n",
    "subval_data = Subset(valdata, range(9000))"
   ]
  },
  {
   "cell_type": "code",
   "execution_count": 12,
   "metadata": {},
   "outputs": [
    {
     "name": "stdout",
     "output_type": "stream",
     "text": [
      "[ 819.464053 1027.299139 1061.443474 1005.031094] [280.082505 290.47426  234.061879 263.752617] [ 889.23726  1052.536255 1134.185754 1030.26821 ] [312.742305 306.804159 265.237142 280.082518]\n"
     ]
    },
    {
     "data": {
      "text/plain": [
       "('./data/bdd100k_images/bdd100k/images/100k/val\\\\b1c81faa-3df17267.jpg',\n",
       " tensor([[[0.5020, 0.5020, 0.5020,  ..., 0.5020, 0.5020, 0.5020],\n",
       "          [0.5020, 0.5020, 0.5020,  ..., 0.5020, 0.5020, 0.5020],\n",
       "          [0.5020, 0.5020, 0.5020,  ..., 0.5020, 0.5020, 0.5020],\n",
       "          ...,\n",
       "          [0.5020, 0.5020, 0.5020,  ..., 0.5020, 0.5020, 0.5020],\n",
       "          [0.5020, 0.5020, 0.5020,  ..., 0.5020, 0.5020, 0.5020],\n",
       "          [0.5020, 0.5020, 0.5020,  ..., 0.5020, 0.5020, 0.5020]],\n",
       " \n",
       "         [[0.5020, 0.5020, 0.5020,  ..., 0.5020, 0.5020, 0.5020],\n",
       "          [0.5020, 0.5020, 0.5020,  ..., 0.5020, 0.5020, 0.5020],\n",
       "          [0.5020, 0.5020, 0.5020,  ..., 0.5020, 0.5020, 0.5020],\n",
       "          ...,\n",
       "          [0.5020, 0.5020, 0.5020,  ..., 0.5020, 0.5020, 0.5020],\n",
       "          [0.5020, 0.5020, 0.5020,  ..., 0.5020, 0.5020, 0.5020],\n",
       "          [0.5020, 0.5020, 0.5020,  ..., 0.5020, 0.5020, 0.5020]],\n",
       " \n",
       "         [[0.5020, 0.5020, 0.5020,  ..., 0.5020, 0.5020, 0.5020],\n",
       "          [0.5020, 0.5020, 0.5020,  ..., 0.5020, 0.5020, 0.5020],\n",
       "          [0.5020, 0.5020, 0.5020,  ..., 0.5020, 0.5020, 0.5020],\n",
       "          ...,\n",
       "          [0.5020, 0.5020, 0.5020,  ..., 0.5020, 0.5020, 0.5020],\n",
       "          [0.5020, 0.5020, 0.5020,  ..., 0.5020, 0.5020, 0.5020],\n",
       "          [0.5020, 0.5020, 0.5020,  ..., 0.5020, 0.5020, 0.5020]]]),\n",
       " tensor([[2.0000, 0.6675, 0.4503, 0.0545, 0.0255],\n",
       "         [2.0000, 0.8124, 0.4521, 0.0197, 0.0128],\n",
       "         [7.0000, 0.8577, 0.4138, 0.0568, 0.0244],\n",
       "         [6.0000, 0.7950, 0.4312, 0.0197, 0.0128],\n",
       "         [0.0000, 0.0000, 0.0000, 0.0000, 0.0000],\n",
       "         [0.0000, 0.0000, 0.0000, 0.0000, 0.0000],\n",
       "         [0.0000, 0.0000, 0.0000, 0.0000, 0.0000],\n",
       "         [0.0000, 0.0000, 0.0000, 0.0000, 0.0000],\n",
       "         [0.0000, 0.0000, 0.0000, 0.0000, 0.0000],\n",
       "         [0.0000, 0.0000, 0.0000, 0.0000, 0.0000],\n",
       "         [0.0000, 0.0000, 0.0000, 0.0000, 0.0000],\n",
       "         [0.0000, 0.0000, 0.0000, 0.0000, 0.0000],\n",
       "         [0.0000, 0.0000, 0.0000, 0.0000, 0.0000],\n",
       "         [0.0000, 0.0000, 0.0000, 0.0000, 0.0000],\n",
       "         [0.0000, 0.0000, 0.0000, 0.0000, 0.0000],\n",
       "         [0.0000, 0.0000, 0.0000, 0.0000, 0.0000],\n",
       "         [0.0000, 0.0000, 0.0000, 0.0000, 0.0000],\n",
       "         [0.0000, 0.0000, 0.0000, 0.0000, 0.0000],\n",
       "         [0.0000, 0.0000, 0.0000, 0.0000, 0.0000],\n",
       "         [0.0000, 0.0000, 0.0000, 0.0000, 0.0000],\n",
       "         [0.0000, 0.0000, 0.0000, 0.0000, 0.0000],\n",
       "         [0.0000, 0.0000, 0.0000, 0.0000, 0.0000],\n",
       "         [0.0000, 0.0000, 0.0000, 0.0000, 0.0000],\n",
       "         [0.0000, 0.0000, 0.0000, 0.0000, 0.0000],\n",
       "         [0.0000, 0.0000, 0.0000, 0.0000, 0.0000],\n",
       "         [0.0000, 0.0000, 0.0000, 0.0000, 0.0000],\n",
       "         [0.0000, 0.0000, 0.0000, 0.0000, 0.0000],\n",
       "         [0.0000, 0.0000, 0.0000, 0.0000, 0.0000],\n",
       "         [0.0000, 0.0000, 0.0000, 0.0000, 0.0000],\n",
       "         [0.0000, 0.0000, 0.0000, 0.0000, 0.0000],\n",
       "         [0.0000, 0.0000, 0.0000, 0.0000, 0.0000],\n",
       "         [0.0000, 0.0000, 0.0000, 0.0000, 0.0000],\n",
       "         [0.0000, 0.0000, 0.0000, 0.0000, 0.0000],\n",
       "         [0.0000, 0.0000, 0.0000, 0.0000, 0.0000],\n",
       "         [0.0000, 0.0000, 0.0000, 0.0000, 0.0000],\n",
       "         [0.0000, 0.0000, 0.0000, 0.0000, 0.0000],\n",
       "         [0.0000, 0.0000, 0.0000, 0.0000, 0.0000],\n",
       "         [0.0000, 0.0000, 0.0000, 0.0000, 0.0000],\n",
       "         [0.0000, 0.0000, 0.0000, 0.0000, 0.0000],\n",
       "         [0.0000, 0.0000, 0.0000, 0.0000, 0.0000],\n",
       "         [0.0000, 0.0000, 0.0000, 0.0000, 0.0000],\n",
       "         [0.0000, 0.0000, 0.0000, 0.0000, 0.0000],\n",
       "         [0.0000, 0.0000, 0.0000, 0.0000, 0.0000],\n",
       "         [0.0000, 0.0000, 0.0000, 0.0000, 0.0000],\n",
       "         [0.0000, 0.0000, 0.0000, 0.0000, 0.0000],\n",
       "         [0.0000, 0.0000, 0.0000, 0.0000, 0.0000],\n",
       "         [0.0000, 0.0000, 0.0000, 0.0000, 0.0000],\n",
       "         [0.0000, 0.0000, 0.0000, 0.0000, 0.0000],\n",
       "         [0.0000, 0.0000, 0.0000, 0.0000, 0.0000],\n",
       "         [0.0000, 0.0000, 0.0000, 0.0000, 0.0000]], dtype=torch.float64))"
      ]
     },
     "execution_count": 12,
     "metadata": {},
     "output_type": "execute_result"
    }
   ],
   "source": [
    "subval_data[1]"
   ]
  },
  {
   "cell_type": "code",
   "execution_count": 21,
   "metadata": {},
   "outputs": [
    {
     "data": {
      "text/plain": [
       "tensor([[2.0000, 0.6675, 0.4503, 0.0545, 0.0255],\n",
       "        [2.0000, 0.8124, 0.4521, 0.0197, 0.0128],\n",
       "        [7.0000, 0.8577, 0.4138, 0.0568, 0.0244],\n",
       "        [6.0000, 0.7950, 0.4312, 0.0197, 0.0128]])"
      ]
     },
     "execution_count": 21,
     "metadata": {},
     "output_type": "execute_result"
    }
   ],
   "source": [
    "output_try = torch.tensor([[2.0000, 0.6675, 0.4503, 0.0545, 0.0255],\n",
    "         [2.0000, 0.8124, 0.4521, 0.0197, 0.0128],\n",
    "         [7.0000, 0.8577, 0.4138, 0.0568, 0.0244],\n",
    "         [6.0000, 0.7950, 0.4312, 0.0197, 0.0128]])\n",
    "output_try"
   ]
  },
  {
   "cell_type": "code",
   "execution_count": 23,
   "metadata": {},
   "outputs": [
    {
     "data": {
      "text/plain": [
       "tensor([[ 8.6775,  5.8539],\n",
       "        [10.5612,  5.8773],\n",
       "        [11.1501,  5.3794],\n",
       "        [10.3350,  5.6056]])"
      ]
     },
     "execution_count": 23,
     "metadata": {},
     "output_type": "execute_result"
    }
   ],
   "source": [
    "output_try[:,1:3] * 13"
   ]
  },
  {
   "cell_type": "code",
   "execution_count": null,
   "metadata": {},
   "outputs": [],
   "source": []
  }
 ],
 "metadata": {
  "kernelspec": {
   "display_name": "Python 3",
   "language": "python",
   "name": "python3"
  },
  "language_info": {
   "codemirror_mode": {
    "name": "ipython",
    "version": 3
   },
   "file_extension": ".py",
   "mimetype": "text/x-python",
   "name": "python",
   "nbconvert_exporter": "python",
   "pygments_lexer": "ipython3",
   "version": "3.6.2"
  }
 },
 "nbformat": 4,
 "nbformat_minor": 2
}
