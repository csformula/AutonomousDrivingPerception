{
 "cells": [
  {
   "cell_type": "markdown",
   "metadata": {},
   "source": [
    "# AI Chanllenge 自动驾驶视觉感知\n",
    "- 基于yolov3的物体检测和可行驶区域分割"
   ]
  },
  {
   "cell_type": "markdown",
   "metadata": {},
   "source": [
    "#### 0. 预处理\n",
    "\n",
    "- 模块导入，自定义相关常量\n",
    "- 生成简化版的labels json文件，防止读取内存时占用过大"
   ]
  },
  {
   "cell_type": "code",
   "execution_count": null,
   "metadata": {},
   "outputs": [],
   "source": [
    "import os\n",
    "import skimage\n",
    "import pandas as pd\n",
    "import matplotlib.pyplot as plt\n",
    "\n",
    "import warnings\n",
    "warnings.filterwarnings(\"ignore\")\n",
    "\n",
    "import torch\n",
    "import torch.nn as nn\n",
    "\n",
    "%matplotlib inline\n",
    "%reload_ext autoreload\n",
    "%autoreload 2"
   ]
  },
  {
   "cell_type": "code",
   "execution_count": null,
   "metadata": {},
   "outputs": [],
   "source": [
    "PATH_Labels = './data/bdd100k_labels_release/bdd100k/labels'\n",
    "PATH_Train = './data/bdd100k_images/bdd100k/images/100k/train'\n",
    "PATH_Test = './data/bdd100k_images/bdd100k/images/100k/test'\n",
    "PATH_Val = './data/bdd100k_images/bdd100k/images/100k/val'\n",
    "PATH_Yolov3cfg_ori = './config/yolov3.cfg'\n",
    "PATH_Yolov3cfg_custom = './config/yolov3-custom-classes.cfg'\n",
    "PATH_Class_names = './data/class.names'\n",
    "\n",
    "NUM_Classes = 10"
   ]
  },
  {
   "cell_type": "code",
   "execution_count": null,
   "metadata": {},
   "outputs": [],
   "source": [
    "# 生成简化labels的json文件，防止读取labels占用内存过大\n",
    "from utils.simplify_labels import *\n",
    "gen_simple_labels(PATH_Labels)"
   ]
  },
  {
   "cell_type": "markdown",
   "metadata": {},
   "source": [
    "### 1. 查看labels文件"
   ]
  },
  {
   "cell_type": "code",
   "execution_count": null,
   "metadata": {},
   "outputs": [],
   "source": [
    "# train_labels_df = pd.read_json(os.path.join(PATH_Labels, 'simple_train_labels.json'))\n",
    "# train_labels_df.head()\n",
    "\n",
    "val_labels_df = pd.read_json(os.path.join(PATH_Labels, 'simple_val_labels.json'))\n",
    "val_labels_df.head()\n"
   ]
  },
  {
   "cell_type": "markdown",
   "metadata": {},
   "source": [
    "### 2. 加载模型"
   ]
  },
  {
   "cell_type": "code",
   "execution_count": null,
   "metadata": {},
   "outputs": [],
   "source": [
    "from models import *\n",
    "\n",
    "model_custom = Darknet(PATH_Yolov3cfg_custom, img_size=416)\n",
    "model_ori = Darknet(PATH_Yolov3cfg_ori, img_size=640)\n",
    "\n",
    "print(model_custom)"
   ]
  },
  {
   "cell_type": "code",
   "execution_count": null,
   "metadata": {},
   "outputs": [],
   "source": [
    "print(model_ori)"
   ]
  },
  {
   "cell_type": "markdown",
   "metadata": {},
   "source": [
    "# 一些试错代码"
   ]
  },
  {
   "cell_type": "code",
   "execution_count": 40,
   "metadata": {},
   "outputs": [],
   "source": [
    "import torch\n",
    "import torch.nn as nn\n",
    "import torch.optim as optim\n",
    "from torch.optim import lr_scheduler"
   ]
  },
  {
   "cell_type": "code",
   "execution_count": 41,
   "metadata": {},
   "outputs": [],
   "source": [
    "class Try_Scheduler(nn.Module):\n",
    "    def __init__(self):\n",
    "        super(Try_Scheduler, self).__init__()\n",
    "        self.conv = nn.Conv2d(3, 10, 3, bias=True)\n",
    "        \n",
    "    def forward(self, x):\n",
    "        x = self.conv(x)"
   ]
  },
  {
   "cell_type": "code",
   "execution_count": 59,
   "metadata": {},
   "outputs": [],
   "source": [
    "inp = torch.randint(0, 50, (10,10,3))\n",
    "model = Try_Scheduler()\n",
    "params = model.parameters()\n",
    "lr_lambda = lambda x: ((x+1)/10)**2\n",
    "optimizer = optim.SGD(params, lr=0.001, weight_decay=0.0005, momentum=0.9)\n",
    "scheduler = lr_scheduler.LambdaLR(optimizer, lr_lambda=lr_lambda,last_epoch=-1)"
   ]
  },
  {
   "cell_type": "code",
   "execution_count": 60,
   "metadata": {},
   "outputs": [
    {
     "name": "stdout",
     "output_type": "stream",
     "text": [
      "1.0000000000000001e-07\n",
      "4.0000000000000003e-07\n",
      "9e-07\n",
      "1.6000000000000001e-06\n",
      "2.5000000000000006e-06\n",
      "3.6e-06\n",
      "4.9000000000000005e-06\n",
      "6.4000000000000006e-06\n",
      "8.1e-06\n",
      "1.0000000000000003e-05\n",
      "1.0000000000000003e-05\n",
      "1.0000000000000003e-05\n",
      "1.0000000000000003e-05\n",
      "1.0000000000000003e-05\n",
      "1.0000000000000003e-05\n",
      "1.0000000000000003e-05\n",
      "1.0000000000000003e-05\n",
      "1.0000000000000003e-05\n",
      "1.0000000000000003e-05\n",
      "1.0000000000000003e-05\n",
      "1.0000000000000003e-05\n",
      "1.0000000000000003e-05\n",
      "1.0000000000000003e-05\n",
      "1.0000000000000003e-05\n",
      "1.0000000000000003e-05\n",
      "1.0000000000000003e-05\n",
      "1.0000000000000003e-05\n",
      "1.0000000000000003e-05\n",
      "1.0000000000000003e-05\n",
      "1.0000000000000003e-05\n",
      "1.0000000000000003e-05\n",
      "1.0000000000000003e-05\n",
      "1.0000000000000003e-05\n",
      "1.0000000000000003e-05\n",
      "1.0000000000000003e-05\n",
      "1.0000000000000003e-05\n",
      "1.0000000000000003e-05\n",
      "1.0000000000000003e-05\n",
      "1.0000000000000003e-05\n",
      "1.0000000000000003e-05\n"
     ]
    }
   ],
   "source": [
    "for epoch in range(2):\n",
    "    for batch in range(20):\n",
    "        if epoch==0 and batch<10:\n",
    "            scheduler.step()\n",
    "#         print(scheduler.state_dict())\n",
    "        print(optimizer.param_groups[0]['lr'])"
   ]
  },
  {
   "cell_type": "code",
   "execution_count": 103,
   "metadata": {},
   "outputs": [],
   "source": [
    "import numpy as np\n",
    "a = np.random.randint(0, 50, (3,2,2))\n",
    "b = np.random.randint(0, 2, (3,2,2))\n",
    "c = np.random.randint(0, 2, (3,2,2))"
   ]
  },
  {
   "cell_type": "code",
   "execution_count": 104,
   "metadata": {},
   "outputs": [
    {
     "data": {
      "text/plain": [
       "(array([[[33,  0],\n",
       "         [ 3, 10]],\n",
       " \n",
       "        [[16, 17],\n",
       "         [18,  7]],\n",
       " \n",
       "        [[35, 24],\n",
       "         [37, 28]]]), array([[[1, 0],\n",
       "         [0, 0]],\n",
       " \n",
       "        [[1, 0],\n",
       "         [1, 0]],\n",
       " \n",
       "        [[0, 0],\n",
       "         [0, 0]]]), array([[[1, 1],\n",
       "         [1, 0]],\n",
       " \n",
       "        [[0, 0],\n",
       "         [0, 0]],\n",
       " \n",
       "        [[1, 0],\n",
       "         [1, 1]]]))"
      ]
     },
     "execution_count": 104,
     "metadata": {},
     "output_type": "execute_result"
    }
   ],
   "source": [
    "a, b, c"
   ]
  },
  {
   "cell_type": "code",
   "execution_count": 106,
   "metadata": {},
   "outputs": [],
   "source": [
    "p = torch.tensor(b, dtype=torch.float32)\n",
    "t = torch.tensor(c, dtype=torch.float32)"
   ]
  },
  {
   "cell_type": "code",
   "execution_count": 109,
   "metadata": {},
   "outputs": [
    {
     "data": {
      "text/plain": [
       "tensor(16.1181)"
      ]
     },
     "execution_count": 109,
     "metadata": {},
     "output_type": "execute_result"
    }
   ],
   "source": [
    "los = nn.BCELoss()(p,t)\n",
    "los"
   ]
  },
  {
   "cell_type": "code",
   "execution_count": null,
   "metadata": {},
   "outputs": [],
   "source": []
  }
 ],
 "metadata": {
  "kernelspec": {
   "display_name": "Python 3",
   "language": "python",
   "name": "python3"
  },
  "language_info": {
   "codemirror_mode": {
    "name": "ipython",
    "version": 3
   },
   "file_extension": ".py",
   "mimetype": "text/x-python",
   "name": "python",
   "nbconvert_exporter": "python",
   "pygments_lexer": "ipython3",
   "version": "3.6.2"
  }
 },
 "nbformat": 4,
 "nbformat_minor": 2
}
